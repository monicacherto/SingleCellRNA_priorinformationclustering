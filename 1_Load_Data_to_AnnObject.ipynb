{
 "cells": [
  {
   "cell_type": "markdown",
   "id": "ef9999ec-3a28-485b-920b-83a08f6d0360",
   "metadata": {},
   "source": [
    "Importing libraries"
   ]
  },
  {
   "cell_type": "code",
   "execution_count": 1,
   "id": "b858817d-dc38-4ff4-97b6-0b2018aa9ff5",
   "metadata": {},
   "outputs": [],
   "source": [
    "import pandas as pd\n",
    "import numpy as np\n",
    "from scipy.io import mmread\n",
    "from scipy import sparse\n",
    "import anndata as ad"
   ]
  },
  {
   "cell_type": "markdown",
   "id": "8e7e6d13-5b47-405a-9c09-44c81769c090",
   "metadata": {},
   "source": [
    "<H1>Loading Data</H1>"
   ]
  },
  {
   "cell_type": "markdown",
   "id": "7189eb0a-3d3f-4b32-a041-2a965fe81e4f",
   "metadata": {},
   "source": [
    "Loading cell barcodes (observations) and genes (features) data"
   ]
  },
  {
   "cell_type": "code",
   "execution_count": 2,
   "id": "711d258a-1cb9-47b2-8784-f6bcb4422287",
   "metadata": {},
   "outputs": [],
   "source": [
    "df_barcodes = pd.read_csv(\"dades/48h/barcodes.tsv\", sep='\\t', header = None) #Barcodes of cells\n",
    "df_features = pd.read_csv(\"dades/48h/features.tsv\", sep='\\t', header = None) #Gens"
   ]
  },
  {
   "cell_type": "markdown",
   "id": "8857b797-b72f-4438-9fd2-dcacfc28f1ff",
   "metadata": {},
   "source": [
    "Loading the number of each gene for each cell. We need to transpose the matrix because we want the cell barcodes on x axis."
   ]
  },
  {
   "cell_type": "code",
   "execution_count": 3,
   "id": "bb45386f-3ec2-42ae-a48a-b80c53224812",
   "metadata": {},
   "outputs": [
    {
     "data": {
      "text/plain": [
       "<7677x32285 sparse matrix of type '<class 'numpy.int64'>'\n",
       "\twith 37230865 stored elements in COOrdinate format>"
      ]
     },
     "execution_count": 3,
     "metadata": {},
     "output_type": "execute_result"
    }
   ],
   "source": [
    "matrix_values = mmread(\"dades/48h/matrix.mtx\").T\n",
    "matrix_values.shape #cells x genes\n",
    "matrix_values"
   ]
  },
  {
   "cell_type": "code",
   "execution_count": 4,
   "id": "f320610b-dde4-4357-b114-ba749bbf6e27",
   "metadata": {},
   "outputs": [
    {
     "data": {
      "text/plain": [
       "<7677x32285 sparse matrix of type '<class 'numpy.int64'>'\n",
       "\twith 37230865 stored elements in Compressed Sparse Row format>"
      ]
     },
     "execution_count": 4,
     "metadata": {},
     "output_type": "execute_result"
    }
   ],
   "source": [
    "csr_matrix_values = sparse.csr_matrix(matrix_values)\n",
    "csr_matrix_values"
   ]
  },
  {
   "cell_type": "code",
   "execution_count": 5,
   "id": "62a5ebc8-2768-4f81-9bd0-0883076cb09f",
   "metadata": {},
   "outputs": [
    {
     "data": {
      "text/plain": [
       "AnnData object with n_obs × n_vars = 7677 × 32285\n",
       "    varm: 'gene_cientific_name'"
      ]
     },
     "execution_count": 5,
     "metadata": {},
     "output_type": "execute_result"
    }
   ],
   "source": [
    "ann_object = ad.AnnData(csr_matrix_values)\n",
    "ann_object.obs_names = [obs for obs in list(df_barcodes[0])] #Cells\n",
    "ann_object.var_names = [feat for feat in df_features[1]] #Genes\n",
    "ann_object.varm[\"gene_cientific_name\"] = np.array(df_features[0])\n",
    "ann_object.var_names_make_unique()\n",
    "ann_object"
   ]
  },
  {
   "cell_type": "code",
   "execution_count": 6,
   "id": "99be3a21-a724-40e2-a1d2-40e8308d7133",
   "metadata": {},
   "outputs": [],
   "source": [
    "ann_object.write_h5ad('dades/48h/ann_object.h5ad')"
   ]
  }
 ],
 "metadata": {
  "kernelspec": {
   "display_name": "Python 3 (ipykernel)",
   "language": "python",
   "name": "python3"
  },
  "language_info": {
   "codemirror_mode": {
    "name": "ipython",
    "version": 3
   },
   "file_extension": ".py",
   "mimetype": "text/x-python",
   "name": "python",
   "nbconvert_exporter": "python",
   "pygments_lexer": "ipython3",
   "version": "3.9.7"
  }
 },
 "nbformat": 4,
 "nbformat_minor": 5
}
